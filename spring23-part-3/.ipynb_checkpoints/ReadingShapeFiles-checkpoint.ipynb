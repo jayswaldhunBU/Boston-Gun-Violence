{
 "cells": [
  {
   "cell_type": "code",
   "execution_count": 1,
   "id": "3a60eba9",
   "metadata": {},
   "outputs": [],
   "source": [
    "# import os\n",
    "# import matplotlib.pyplot as plt\n",
    "# import geopandas as gpd\n",
    "# import earthpy as et\n",
    "\n",
    "# et.data.get_data(\"City_Council_Districts_-_Effective_for_the_2023_Municipal_Election\")\n",
    "import shapefile\n",
    "\n",
    "shape = shapefile.Reader(\"City_Council_Districts_-_Effective_for_the_2023_Municipal_Election/City_Council_Districts_-_Effective_for_the_2023_Municipal_Election.shp\")"
   ]
  },
  {
   "cell_type": "code",
   "execution_count": null,
   "id": "1384c480",
   "metadata": {},
   "outputs": [],
   "source": []
  }
 ],
 "metadata": {
  "kernelspec": {
   "display_name": "Python 3 (ipykernel)",
   "language": "python",
   "name": "python3"
  },
  "language_info": {
   "codemirror_mode": {
    "name": "ipython",
    "version": 3
   },
   "file_extension": ".py",
   "mimetype": "text/x-python",
   "name": "python",
   "nbconvert_exporter": "python",
   "pygments_lexer": "ipython3",
   "version": "3.9.13"
  }
 },
 "nbformat": 4,
 "nbformat_minor": 5
}
