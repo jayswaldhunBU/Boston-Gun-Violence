{
 "cells": [
  {
   "cell_type": "markdown",
   "metadata": {},
   "source": [
    "## Counting Crimes on Police District Borders using GeoPandas and Shapely"
   ]
  },
  {
   "cell_type": "markdown",
   "metadata": {},
   "source": [
    "This Python code imports GeoPandas and Shapely libraries to load a shapefile of police districts and crime data in CSV format, convert the latitude and longitude columns into Shapely Point objects, loop through each police district and crime point to check if the crime point is on the police district border, and count the number of crimes on the police district borders."
   ]
  },
  {
   "cell_type": "code",
   "execution_count": 1,
   "metadata": {},
   "outputs": [
    {
     "name": "stderr",
     "output_type": "stream",
     "text": [
      "/var/folders/nq/dfgt38gn3xlbj__b6cp9350c0000gn/T/ipykernel_38730/2074332388.py:9: DtypeWarning: Columns (0,2,6,12) have mixed types. Specify dtype option on import or set low_memory=False.\n",
      "  crime_data = pd.read_csv(\"../../../data/police_reports/merged_data.csv\")\n"
     ]
    },
    {
     "name": "stdout",
     "output_type": "stream",
     "text": [
      "Number of crimes on police district borders: 0\n"
     ]
    }
   ],
   "source": [
    "import geopandas as gpd\n",
    "from shapely.geometry import Point, LineString\n",
    "import pandas as pd\n",
    "\n",
    "# Load the police district shapefile into a geopandas GeoDataFrame\n",
    "police_districts = gpd.read_file(\"../../../data/Police_Districts.shp\")\n",
    "\n",
    "# Load the crime data into a pandas DataFrame\n",
    "crime_data = pd.read_csv(\"../../../data/police_reports/merged_data.csv\")\n",
    "\n",
    "# Convert the latitude and longitude columns to Shapely Point objects\n",
    "crime_data['geometry'] = crime_data.apply(lambda x: Point((float(x.Long), float(x.Lat))), axis=1)\n",
    "\n",
    "# Create a new empty GeoDataFrame to hold the crime points that are on the police district borders\n",
    "crime_on_border = gpd.GeoDataFrame()\n",
    "\n",
    "# Loop through each police district\n",
    "for index, row in police_districts.iterrows():\n",
    "    # Get the border of the police district as a LineString object\n",
    "    border = row['geometry'].boundary\n",
    "    \n",
    "    # Loop through each crime point\n",
    "    for crime_index, crime_row in crime_data.iterrows():\n",
    "        # Check if the crime point is on the police district border\n",
    "        if crime_row['geometry'].touches(border):\n",
    "            # Add the crime point to the crime_on_border GeoDataFrame\n",
    "            crime_on_border = crime_on_border.append(crime_row, ignore_index=True)\n",
    "\n",
    "# Count the number of crimes on the police district borders\n",
    "num_crimes_on_border = len(crime_on_border)\n",
    "\n",
    "print(\"Number of crimes on police district borders:\", num_crimes_on_border)\n"
   ]
  },
  {
   "cell_type": "markdown",
   "metadata": {},
   "source": [
    "We cannot conclude that there is no relation to the bordering areas and crime rate solely based on the fact that there were no crimes on police district borders. It is possible that crimes could occur near the borders, but not actually touch the border. Additionally, other factors could be at play in determining crime rates within each police district."
   ]
  }
 ],
 "metadata": {
  "kernelspec": {
   "display_name": "Python 3.10.7 64-bit",
   "language": "python",
   "name": "python3"
  },
  "language_info": {
   "codemirror_mode": {
    "name": "ipython",
    "version": 3
   },
   "file_extension": ".py",
   "mimetype": "text/x-python",
   "name": "python",
   "nbconvert_exporter": "python",
   "pygments_lexer": "ipython3",
   "version": "3.10.7"
  },
  "orig_nbformat": 4,
  "vscode": {
   "interpreter": {
    "hash": "aee8b7b246df8f9039afb4144a1f6fd8d2ca17a180786b69acc140d282b71a49"
   }
  }
 },
 "nbformat": 4,
 "nbformat_minor": 2
}
